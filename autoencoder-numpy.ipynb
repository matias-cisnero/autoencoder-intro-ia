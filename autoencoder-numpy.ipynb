{
 "cells": [
  {
   "cell_type": "markdown",
   "id": "d1a7d479",
   "metadata": {},
   "source": [
    "Carga de librerias"
   ]
  },
  {
   "cell_type": "code",
   "execution_count": 2,
   "id": "199815d5",
   "metadata": {},
   "outputs": [],
   "source": [
    "import numpy as np\n",
    "import matplotlib.pyplot as plt\n",
    "import matplotlib.patheffects as path_effects"
   ]
  },
  {
   "cell_type": "markdown",
   "id": "069395a9",
   "metadata": {},
   "source": [
    "# Datos"
   ]
  },
  {
   "cell_type": "markdown",
   "id": "65718dea",
   "metadata": {},
   "source": [
    "Funciones para transformar los datos"
   ]
  },
  {
   "cell_type": "code",
   "execution_count": 3,
   "id": "3b1d4a0d",
   "metadata": {},
   "outputs": [],
   "source": [
    "import numpy as np\n",
    "\n",
    "def aplanar(datos, cantidad=10):\n",
    "  datos = np.split(datos, cantidad)\n",
    "  return np.array([ejem.flatten(order='C') for ejem in datos])\n",
    "\n",
    "def des_aplanar(datos, k=7, j=5):\n",
    "  datos = np.array(datos)\n",
    "  return np.array([ejem.reshape((k, j), order='C') for ejem in datos])\n",
    "\n",
    "def binario_a_matriz(datos):\n",
    "  matrices = []\n",
    "  for caracter in datos:\n",
    "    matriz = []\n",
    "    for byte in caracter:\n",
    "      fila = [(byte >> i) & 1 for i in range(4, -1, -1)]\n",
    "      matriz.append(fila)\n",
    "    matrices.append(matriz)\n",
    "  return np.array(matrices)\n",
    "\n",
    "def graficar_matrices(mats, titulo=\"\"):\n",
    "  n = len(mats)\n",
    "  fig, axes = plt.subplots(1, n, figsize=(n * 2, 3))\n",
    "  if n == 1:          # cuando n = 1, axes no es lista\n",
    "    axes = [axes]\n",
    "\n",
    "  for i, ax in enumerate(axes):\n",
    "    ax.imshow(mats[i], cmap=\"gray_r\", interpolation=\"nearest\")  # 1→negro\n",
    "    ax.axis(\"off\")\n",
    "    ax.set_title(f\"Gen {i+1}\")\n",
    "\n",
    "  if titulo:\n",
    "    fig.suptitle(titulo, fontsize=12, y=1.05)\n",
    "  plt.tight_layout()\n",
    "  plt.show()"
   ]
  },
  {
   "cell_type": "markdown",
   "id": "0d75c461",
   "metadata": {},
   "source": [
    "Transformación de los datos"
   ]
  },
  {
   "cell_type": "code",
   "execution_count": 4,
   "id": "792b8726",
   "metadata": {},
   "outputs": [],
   "source": [
    "datos = [\n",
    "    [0x0e, 0x11, 0x17, 0x15, 0x17, 0x10, 0x0f],  # @\n",
    "    [0x04, 0x0a, 0x11, 0x11, 0x1f, 0x11, 0x11],  # A\n",
    "    [0x1e, 0x11, 0x11, 0x1e, 0x11, 0x11, 0x1e],  # B\n",
    "    [0x0e, 0x11, 0x10, 0x10, 0x10, 0x11, 0x0e],  # C\n",
    "    [0x1e, 0x09, 0x09, 0x09, 0x09, 0x09, 0x1e],  # D\n",
    "    [0x1f, 0x10, 0x10, 0x1c, 0x10, 0x10, 0x1f],  # E\n",
    "    [0x1f, 0x10, 0x10, 0x1f, 0x10, 0x10, 0x10],  # F\n",
    "    [0x0e, 0x11, 0x10, 0x10, 0x13, 0x11, 0x0f],  # G\n",
    "    [0x11, 0x11, 0x11, 0x1f, 0x11, 0x11, 0x11],  # H\n",
    "    [0x0e, 0x04, 0x04, 0x04, 0x04, 0x04, 0x0e],  # I\n",
    "    [0x1f, 0x02, 0x02, 0x02, 0x02, 0x12, 0x0c],  # J\n",
    "    [0x11, 0x12, 0x14, 0x18, 0x14, 0x12, 0x11],  # K\n",
    "    [0x10, 0x10, 0x10, 0x10, 0x10, 0x10, 0x1f],  # L\n",
    "    [0x11, 0x1b, 0x15, 0x11, 0x11, 0x11, 0x11],  # M\n",
    "    [0x11, 0x11, 0x19, 0x15, 0x13, 0x11, 0x11],  # N\n",
    "    [0x0e, 0x11, 0x11, 0x11, 0x11, 0x11, 0x0e],  # O\n",
    "    [0x1e, 0x11, 0x11, 0x1e, 0x10, 0x10, 0x10],  # P\n",
    "    [0x0e, 0x11, 0x11, 0x11, 0x15, 0x12, 0x0d],  # Q\n",
    "    [0x1e, 0x11, 0x11, 0x1e, 0x14, 0x12, 0x11],  # R\n",
    "    [0x0e, 0x11, 0x10, 0x0e, 0x01, 0x11, 0x0e],  # S\n",
    "    [0x1f, 0x04, 0x04, 0x04, 0x04, 0x04, 0x04],  # T\n",
    "    [0x11, 0x11, 0x11, 0x11, 0x11, 0x11, 0x0e],  # U\n",
    "    [0x11, 0x11, 0x11, 0x11, 0x11, 0x0a, 0x04],  # V\n",
    "    [0x11, 0x11, 0x11, 0x15, 0x15, 0x1b, 0x11],  # W\n",
    "    [0x11, 0x11, 0x0a, 0x04, 0x0a, 0x11, 0x11],  # X\n",
    "    [0x11, 0x11, 0x0a, 0x04, 0x04, 0x04, 0x04],  # Y\n",
    "    [0x1f, 0x01, 0x02, 0x04, 0x08, 0x10, 0x1f],  # Z\n",
    "    [0x0e, 0x08, 0x08, 0x08, 0x08, 0x08, 0x0e],  # [\n",
    "    [0x10, 0x10, 0x08, 0x04, 0x02, 0x01, 0x01],  # \\\n",
    "    [0x0e, 0x02, 0x02, 0x02, 0x02, 0x02, 0x0e],  # ]\n",
    "    [0x04, 0x0a, 0x11, 0x00, 0x00, 0x00, 0x00],  # ^\n",
    "    [0x00, 0x00, 0x00, 0x00, 0x00, 0x00, 0x1f],  # _\n",
    "]\n",
    "\n",
    "etiquetas = ['@', 'A', 'B', 'C', 'D', 'E', 'F', 'G', 'H', 'I', 'J', 'K', 'L', 'M', 'N', 'O', 'P', 'Q', 'R', 'S', 'T', 'U', 'V', 'W', 'X', 'Y', 'Z', '[', '\\\\', ']', '^', '_']\n",
    "\n",
    "matrices = binario_a_matriz(datos)\n",
    "\n",
    "x = aplanar(matrices, len(matrices)) # Datos enchorizados"
   ]
  },
  {
   "cell_type": "code",
   "execution_count": 5,
   "id": "81382483",
   "metadata": {},
   "outputs": [
    {
     "ename": "NameError",
     "evalue": "name 'json' is not defined",
     "output_type": "error",
     "traceback": [
      "\u001b[1;31m---------------------------------------------------------------------------\u001b[0m",
      "\u001b[1;31mNameError\u001b[0m                                 Traceback (most recent call last)",
      "Cell \u001b[1;32mIn[5], line 1\u001b[0m\n\u001b[1;32m----> 1\u001b[0m \u001b[38;5;28mprint\u001b[39m(\u001b[43mjson\u001b[49m\u001b[38;5;241m.\u001b[39mdumps(x[\u001b[38;5;241m6\u001b[39m]\u001b[38;5;241m.\u001b[39mtolist()))\n",
      "\u001b[1;31mNameError\u001b[0m: name 'json' is not defined"
     ]
    }
   ],
   "source": [
    "print(json.dumps(x[6].tolist()))"
   ]
  },
  {
   "cell_type": "code",
   "execution_count": null,
   "id": "75157a49",
   "metadata": {},
   "outputs": [
    {
     "data": {
      "text/plain": [
       "array([[1, 1, 1, 1, 1],\n",
       "       [1, 0, 0, 0, 0],\n",
       "       [1, 0, 0, 0, 0],\n",
       "       [1, 1, 1, 1, 1],\n",
       "       [1, 0, 0, 0, 0],\n",
       "       [1, 0, 0, 0, 0],\n",
       "       [1, 0, 0, 0, 0]])"
      ]
     },
     "execution_count": 124,
     "metadata": {},
     "output_type": "execute_result"
    }
   ],
   "source": [
    "matrices[6]"
   ]
  },
  {
   "cell_type": "markdown",
   "id": "1d0defc5",
   "metadata": {},
   "source": [
    "# Modelos"
   ]
  },
  {
   "cell_type": "markdown",
   "id": "8bf6ab29",
   "metadata": {},
   "source": [
    "## Funciones auxiliares"
   ]
  },
  {
   "cell_type": "code",
   "execution_count": 6,
   "id": "2e10617e",
   "metadata": {},
   "outputs": [],
   "source": [
    "def signo(h):\n",
    "  return 1 if h >= 0 else -1\n",
    "\n",
    "def sigmoide(h, β=1):\n",
    "  return 1 / (1 + np.exp(-2 * β * h))\n",
    "\n",
    "def sigmoide_derivada(h, β=1):\n",
    "  return 2 * β * sigmoide(h, β) * (1 - sigmoide(h, β))\n",
    "\n",
    "def tanh(h, β=1): # Usarlo\n",
    "  return np.tanh(β * h)\n",
    "\n",
    "def tanh_derivada(h, β=1):\n",
    "  return β * (1 - tanh(h, β) ** 2)\n",
    "\n",
    "def gelu(h):\n",
    "  return 0.5 * h * (1 + np.tanh(np.sqrt(2 / np.pi) * (h + 0.044715 * h**3)))\n",
    "\n",
    "def gelu_derivada(h):\n",
    "  c = np.sqrt(2 / np.pi)\n",
    "  a = h + 0.044715 * h**3\n",
    "  t = tanh(c * a)\n",
    "  dt = tanh_derivada(c * a) * c * (1 + 3 * 0.044715 * h**2)\n",
    "  return 0.5 * (1 + t) + 0.5 * h * dt\n",
    "\n",
    "def binary_crossentropy(y, ypred):\n",
    "  ε = 1e-8  # evitar log(0)\n",
    "  return -np.mean(y * np.log(ypred + ε) + (1 - y) * np.log(1 - ypred + ε))\n",
    "\n",
    "def MSE(y, ypred):\n",
    "  return 1/2 * np.sum((y - ypred)**2)"
   ]
  },
  {
   "cell_type": "markdown",
   "id": "1fd5d944",
   "metadata": {},
   "source": [
    "## Modelo 1 (Sigmoide)"
   ]
  },
  {
   "cell_type": "code",
   "execution_count": 12,
   "id": "9d23e8e7",
   "metadata": {},
   "outputs": [],
   "source": [
    "def autoencoder(x, y, η, epocas):\n",
    "  np.random.seed(11)\n",
    "\n",
    "  # Cantidad de neuronas\n",
    "  entrada = salida = int(x.shape[1]) # Igual que salida\n",
    "  oculta1 = oculta2 = 11 # Ambas del mismo tamaño\n",
    "  latente = 2\n",
    "\n",
    "  # Creo mis pesos\n",
    "  w1 = np.random.normal(0, 0.1, (entrada, oculta1))\n",
    "  w2 = np.random.normal(0, 0.1, (oculta1, latente))\n",
    "  w3 = np.random.normal(0, 0.1, (latente, oculta2))\n",
    "  w4 = np.random.normal(0, 0.1, (oculta2, salida))\n",
    "\n",
    "  # Creo mis sesgos\n",
    "  b1 = np.zeros((1, oculta1))\n",
    "  b2 = np.zeros((1, latente))\n",
    "  b3 = np.zeros((1, oculta2))\n",
    "  b4 = np.zeros((1, salida))\n",
    "\n",
    "  error = np.inf\n",
    "  error_min = np.inf\n",
    "  errores = []\n",
    "\n",
    "  for _ in range(epocas):\n",
    "    indices = np.random.permutation(x.shape[0])\n",
    "\n",
    "    for indice in indices:\n",
    "      Vk = x[indice].reshape(1, -1)\n",
    "      yk = y[indice].reshape(1, -1)\n",
    "\n",
    "      # Propagar\n",
    "      h1 = Vk @ w1 + b1\n",
    "      V1 = sigmoide(h1)\n",
    "\n",
    "      h2 = V1 @ w2 + b2\n",
    "      V2 = sigmoide(h2)\n",
    "\n",
    "      h3 = V2 @ w3 + b3\n",
    "      V3 = sigmoide(h3)\n",
    "\n",
    "      h4 = V3 @ w4 + b4\n",
    "      V4 = sigmoide(h4)\n",
    "\n",
    "      # Retropropagar\n",
    "      δ4 = sigmoide_derivada(h4) * (yk - V4)\n",
    "      δ3 = sigmoide_derivada(h3) * (δ4 @ w4.T)\n",
    "      δ2 = sigmoide_derivada(h2) * (δ3 @ w3.T)\n",
    "      δ1 = sigmoide_derivada(h1) * (δ2 @ w2.T)\n",
    "\n",
    "      # Actualización de pesos y sesgos\n",
    "      w4 += η * (V3.T @ δ4)\n",
    "      b4 += η * δ4\n",
    "\n",
    "      w3 += η * (V2.T @ δ3)\n",
    "      b3 += η * δ3\n",
    "\n",
    "      w2 += η * (V1.T @ δ2)\n",
    "      b2 += η * δ2\n",
    "\n",
    "      w1 += η * (Vk.T @ δ1)\n",
    "      b1 += η * δ1\n",
    "\n",
    "      #Calculo de error\n",
    "      #error = binary_crossentropy(yk, V4)\n",
    "      error = MSE(yk, V4)\n",
    "\n",
    "      if error < error_min:\n",
    "        error_min = error\n",
    "        w1_min, w2_min, w3_min, w4_min = w1.copy(), w2.copy(), w3.copy(), w4.copy()\n",
    "        b1_min, b2_min, b3_min, b4_min = b1.copy(), b2.copy(), b3.copy(), b4.copy()\n",
    "\n",
    "    errores.append(error_min)\n",
    "\n",
    "  print(f\"Entrenamiento realizado con {epocas} epocas y error mínimo alcanzado: {error_min}\")\n",
    "  plt.plot(errores)\n",
    "  plt.title(\"Error por época\")\n",
    "  plt.xlabel(\"Época\")\n",
    "  plt.ylabel(\"Error\")\n",
    "  plt.grid()\n",
    "  plt.show()\n",
    "  return w1_min, w2_min, w3_min, w4_min, b1_min, b2_min, b3_min, b4_min\n",
    "\n",
    "def predecir_autoencoder(Vk, w1, w2, w3, w4, b1, b2, b3, b4):\n",
    "  V1 = sigmoide(Vk @ w1 + b1)\n",
    "  V2 = sigmoide(V1 @ w2 + b2)\n",
    "  V3 = sigmoide(V2 @ w3 + b3)\n",
    "  V4 = sigmoide(V3 @ w4 + b4)\n",
    "  return V4"
   ]
  },
  {
   "cell_type": "markdown",
   "id": "f8ddcc24",
   "metadata": {},
   "source": [
    "## Modelo 2 (Adam + Sigmoide)"
   ]
  },
  {
   "cell_type": "code",
   "execution_count": 53,
   "id": "91805301",
   "metadata": {},
   "outputs": [],
   "source": [
    "def autoencoder2(x, y, η, epocas, β1=0.9, β2=0.999, ε=1e-8):\n",
    "    np.random.seed(11)\n",
    "\n",
    "    entrada = salida = int(x.shape[1])\n",
    "    oculta1 = oculta2 = 11\n",
    "    latente = 2\n",
    "\n",
    "    # Pesos y sesgos\n",
    "    w1 = np.random.normal(0, 0.1, (entrada, oculta1))\n",
    "    w2 = np.random.normal(0, 0.1, (oculta1, latente))\n",
    "    w3 = np.random.normal(0, 0.1, (latente, oculta2))\n",
    "    w4 = np.random.normal(0, 0.1, (oculta2, salida))\n",
    "\n",
    "    b1 = np.zeros((1, oculta1))\n",
    "    b2 = np.zeros((1, latente))\n",
    "    b3 = np.zeros((1, oculta2))\n",
    "    b4 = np.zeros((1, salida))\n",
    "\n",
    "    # Inicialización para Adam\n",
    "    mw, vw = [np.zeros_like(w) for w in [w1, w2, w3, w4]], [np.zeros_like(w) for w in [w1, w2, w3, w4]]\n",
    "    mb, vb = [np.zeros_like(b) for b in [b1, b2, b3, b4]], [np.zeros_like(b) for b in [b1, b2, b3, b4]]\n",
    "\n",
    "    t = 0\n",
    "    error_min = np.inf\n",
    "    errores = []\n",
    "\n",
    "    for _ in range(epocas):\n",
    "        indices = np.random.permutation(x.shape[0])\n",
    "\n",
    "        for indice in indices:\n",
    "            t += 1\n",
    "            Vk = x[indice].reshape(1, -1)\n",
    "            yk = y[indice].reshape(1, -1)\n",
    "\n",
    "            # Forward\n",
    "            h1 = Vk @ w1 + b1\n",
    "            V1 = sigmoide(h1)\n",
    "\n",
    "            h2 = V1 @ w2 + b2\n",
    "            V2 = sigmoide(h2)\n",
    "\n",
    "            h3 = V2 @ w3 + b3\n",
    "            V3 = sigmoide(h3)\n",
    "\n",
    "            h4 = V3 @ w4 + b4\n",
    "            V4 = sigmoide(h4)\n",
    "\n",
    "            # Backprop\n",
    "            δ4 = sigmoide_derivada(h4) * (yk - V4)\n",
    "            δ3 = sigmoide_derivada(h3) * (δ4 @ w4.T)\n",
    "            δ2 = sigmoide_derivada(h2) * (δ3 @ w3.T)\n",
    "            δ1 = sigmoide_derivada(h1) * (δ2 @ w2.T)\n",
    "\n",
    "            # Gradientes\n",
    "            dw = [Vk.T @ δ1, V1.T @ δ2, V2.T @ δ3, V3.T @ δ4]\n",
    "            db = [δ1, δ2, δ3, δ4]\n",
    "\n",
    "            # Adam para pesos y sesgos\n",
    "            for i, (dw_i, db_i) in enumerate(zip(dw, db)):\n",
    "                # Pesos\n",
    "                mw[i] = β1 * mw[i] + (1 - β1) * dw_i\n",
    "                vw[i] = β2 * vw[i] + (1 - β2) * (dw_i ** 2)\n",
    "\n",
    "                mw_hat = mw[i] / (1 - β1 ** t)\n",
    "                vw_hat = vw[i] / (1 - β2 ** t)\n",
    "\n",
    "                [w1, w2, w3, w4][i] += η * mw_hat / (np.sqrt(vw_hat) + ε)\n",
    "\n",
    "                # Sesgos\n",
    "                mb[i] = β1 * mb[i] + (1 - β1) * db_i\n",
    "                vb[i] = β2 * vb[i] + (1 - β2) * (db_i ** 2)\n",
    "\n",
    "                mb_hat = mb[i] / (1 - β1 ** t)\n",
    "                vb_hat = vb[i] / (1 - β2 ** t)\n",
    "\n",
    "                [b1, b2, b3, b4][i] += η * mb_hat / (np.sqrt(vb_hat) + ε)\n",
    "\n",
    "            # Error\n",
    "            error = binary_crossentropy(yk, V4)\n",
    "\n",
    "            if error < error_min:\n",
    "                error_min = error\n",
    "                w1_min, w2_min, w3_min, w4_min = w1.copy(), w2.copy(), w3.copy(), w4.copy()\n",
    "                b1_min, b2_min, b3_min, b4_min = b1.copy(), b2.copy(), b3.copy(), b4.copy()\n",
    "\n",
    "        errores.append(error_min)\n",
    "\n",
    "    print(f\"Entrenamiento realizado con {epocas} epocas y error mínimo alcanzado: {error_min}\")\n",
    "    plt.plot(errores)\n",
    "    plt.title(\"Error por época\")\n",
    "    plt.xlabel(\"Época\")\n",
    "    plt.ylabel(\"Error\")\n",
    "    plt.grid()\n",
    "    plt.show()\n",
    "\n",
    "    return w1_min, w2_min, w3_min, w4_min, b1_min, b2_min, b3_min, b4_min\n",
    "\n",
    "def predecir_autoencoder2(Vk, w1, w2, w3, w4, b1, b2, b3, b4):\n",
    "    V1 = sigmoide(Vk @ w1 + b1)\n",
    "    V2 = sigmoide(V1 @ w2 + b2)\n",
    "    V3 = sigmoide(V2 @ w3 + b3)\n",
    "    V4 = sigmoide(V3 @ w4 + b4)\n",
    "    return V4"
   ]
  },
  {
   "cell_type": "markdown",
   "id": "0cd4549a",
   "metadata": {},
   "source": [
    "## Modelo 3 (Adam + Gelu)"
   ]
  },
  {
   "cell_type": "code",
   "execution_count": 21,
   "id": "c81dcafc",
   "metadata": {},
   "outputs": [],
   "source": [
    "def autoencoder3(x, y, η, epocas, seed=94, β1=0.9, β2=0.999, ε=1e-8):\n",
    "    np.random.seed(seed)\n",
    "\n",
    "    entrada = salida = int(x.shape[1])\n",
    "    oculta1 = oculta2 = 16\n",
    "    latente = 2\n",
    "\n",
    "    # Pesos y sesgos\n",
    "    w1 = np.random.normal(0, 0.1, (entrada, oculta1))\n",
    "    w2 = np.random.normal(0, 0.1, (oculta1, latente))\n",
    "    w3 = np.random.normal(0, 0.1, (latente, oculta2))\n",
    "    w4 = np.random.normal(0, 0.1, (oculta2, salida))\n",
    "\n",
    "    b1 = np.zeros((1, oculta1))\n",
    "    b2 = np.zeros((1, latente))\n",
    "    b3 = np.zeros((1, oculta2))\n",
    "    b4 = np.zeros((1, salida))\n",
    "\n",
    "    # Inicialización para Adam\n",
    "    mw, vw = [np.zeros_like(w) for w in [w1, w2, w3, w4]], [np.zeros_like(w) for w in [w1, w2, w3, w4]]\n",
    "    mb, vb = [np.zeros_like(b) for b in [b1, b2, b3, b4]], [np.zeros_like(b) for b in [b1, b2, b3, b4]]\n",
    "\n",
    "    t = 0\n",
    "    error_min = np.inf\n",
    "    errores = []\n",
    "\n",
    "    for _ in range(epocas):\n",
    "        indices = np.random.permutation(x.shape[0])\n",
    "\n",
    "        for indice in indices:\n",
    "            t += 1\n",
    "            Vk = x[indice].reshape(1, -1)\n",
    "            yk = y[indice].reshape(1, -1)\n",
    "\n",
    "            # Forward\n",
    "            h1 = Vk @ w1 + b1\n",
    "            V1 = gelu(h1)\n",
    "\n",
    "            h2 = V1 @ w2 + b2\n",
    "            V2 = gelu(h2)\n",
    "\n",
    "            h3 = V2 @ w3 + b3\n",
    "            V3 = gelu(h3)\n",
    "\n",
    "            h4 = V3 @ w4 + b4\n",
    "            V4 = gelu(h4)\n",
    "\n",
    "            # Backprop\n",
    "            δ4 = gelu_derivada(h4) * (yk - V4)\n",
    "            δ3 = gelu_derivada(h3) * (δ4 @ w4.T)\n",
    "            δ2 = gelu_derivada(h2) * (δ3 @ w3.T)\n",
    "            δ1 = gelu_derivada(h1) * (δ2 @ w2.T)\n",
    "\n",
    "            # Gradientes\n",
    "            dw = [Vk.T @ δ1, V1.T @ δ2, V2.T @ δ3, V3.T @ δ4]\n",
    "            db = [δ1, δ2, δ3, δ4]\n",
    "\n",
    "            # Adam para pesos y sesgos\n",
    "            for i, (dw_i, db_i) in enumerate(zip(dw, db)):\n",
    "                # Pesos\n",
    "                mw[i] = β1 * mw[i] + (1 - β1) * dw_i\n",
    "                vw[i] = β2 * vw[i] + (1 - β2) * (dw_i ** 2)\n",
    "\n",
    "                mw_hat = mw[i] / (1 - β1 ** t)\n",
    "                vw_hat = vw[i] / (1 - β2 ** t)\n",
    "\n",
    "                [w1, w2, w3, w4][i] += η * mw_hat / (np.sqrt(vw_hat) + ε)\n",
    "\n",
    "                # Sesgos\n",
    "                mb[i] = β1 * mb[i] + (1 - β1) * db_i\n",
    "                vb[i] = β2 * vb[i] + (1 - β2) * (db_i ** 2)\n",
    "\n",
    "                mb_hat = mb[i] / (1 - β1 ** t)\n",
    "                vb_hat = vb[i] / (1 - β2 ** t)\n",
    "\n",
    "                [b1, b2, b3, b4][i] += η * mb_hat / (np.sqrt(vb_hat) + ε)\n",
    "\n",
    "            # Error\n",
    "            error = MSE(yk, V4)\n",
    "\n",
    "            if error < error_min:\n",
    "                error_min = error\n",
    "                w1_min, w2_min, w3_min, w4_min = w1.copy(), w2.copy(), w3.copy(), w4.copy()\n",
    "                b1_min, b2_min, b3_min, b4_min = b1.copy(), b2.copy(), b3.copy(), b4.copy()\n",
    "\n",
    "        errores.append(error_min)\n",
    "\n",
    "    print(f\"Entrenamiento realizado con {epocas} epocas y error mínimo alcanzado: {error_min}\")\n",
    "    plt.plot(errores)\n",
    "    plt.title(\"Error por época\")\n",
    "    plt.xlabel(\"Época\")\n",
    "    plt.ylabel(\"Error\")\n",
    "    plt.grid()\n",
    "    plt.show()\n",
    "\n",
    "    return w1_min, w2_min, w3_min, w4_min, b1_min, b2_min, b3_min, b4_min\n",
    "\n",
    "def predecir_autoencoder3(Vk, w1, w2, w3, w4, b1, b2, b3, b4):\n",
    "    V1 = gelu(Vk @ w1 + b1)\n",
    "    V2 = gelu(V1 @ w2 + b2)\n",
    "    V3 = gelu(V2 @ w3 + b3)\n",
    "    V4 = gelu(V3 @ w4 + b4)\n",
    "    return V4"
   ]
  },
  {
   "cell_type": "markdown",
   "id": "004e7633",
   "metadata": {},
   "source": [
    "## Encoder y decoder"
   ]
  },
  {
   "cell_type": "code",
   "execution_count": 10,
   "id": "650978fd",
   "metadata": {},
   "outputs": [],
   "source": [
    "def encoder(Vk, w1, w2, b1, b2):\n",
    "  V1 = sigmoide(Vk @ w1 + b1)\n",
    "  V2 = sigmoide(V1 @ w2 + b2)\n",
    "  return V2\n",
    "\n",
    "def decoder(V_latente, w3, w4, b3, b4):\n",
    "  V3 = sigmoide(V_latente @ w3 + b3)\n",
    "  V4 = sigmoide(V3 @ w4 + b4)\n",
    "  return V4"
   ]
  },
  {
   "cell_type": "code",
   "execution_count": 11,
   "id": "1274e00f",
   "metadata": {},
   "outputs": [],
   "source": [
    "def encoder3(Vk, w1, w2, b1, b2):\n",
    "  V1 = gelu(Vk @ w1 + b1)\n",
    "  V2 = gelu(V1 @ w2 + b2)\n",
    "  return V2\n",
    "\n",
    "def decoder3(V_latente, w3, w4, b3, b4):\n",
    "  V3 = gelu(V_latente @ w3 + b3)\n",
    "  V4 = gelu(V3 @ w4 + b4)\n",
    "  return V4"
   ]
  },
  {
   "cell_type": "markdown",
   "id": "450ced5b",
   "metadata": {},
   "source": [
    "# Entrenamiento"
   ]
  },
  {
   "cell_type": "markdown",
   "id": "f1ce0f20",
   "metadata": {},
   "source": [
    "Prueba autoencoder y guardar pesos"
   ]
  },
  {
   "cell_type": "code",
   "execution_count": 30,
   "id": "b9f4c220",
   "metadata": {},
   "outputs": [
    {
     "name": "stdout",
     "output_type": "stream",
     "text": [
      "Entrenamiento realizado con 20000 epocas y error mínimo alcanzado: 0.013117072420079019\n"
     ]
    },
    {
     "data": {
      "image/png": "[encoded data removed]",
      "text/plain": [
       "<Figure size 640x480 with 1 Axes>"
      ]
     },
     "metadata": {},
     "output_type": "display_data"
    }
   ],
   "source": [
    "w1, w2, w3, w4, b1, b2, b3, b4 = autoencoder(x, x, 0.01, 20000)"
   ]
  },
  {
   "cell_type": "code",
   "execution_count": 66,
   "id": "d02ed328",
   "metadata": {},
   "outputs": [
    {
     "name": "stdout",
     "output_type": "stream",
     "text": [
      "Entrenamiento realizado con 50000 epocas y error mínimo alcanzado: 7.295279668433591e-05\n"
     ]
    },
    {
     "data": {
      "image/png": "[encoded data removed]",
      "text/plain": [
       "<Figure size 640x480 with 1 Axes>"
      ]
     },
     "metadata": {},
     "output_type": "display_data"
    }
   ],
   "source": [
    "w1, w2, w3, w4, b1, b2, b3, b4 = autoencoder2(x, x, 0.001, 50000)"
   ]
  },
  {
   "cell_type": "code",
   "execution_count": 45,
   "id": "0d691c68",
   "metadata": {},
   "outputs": [
    {
     "name": "stdout",
     "output_type": "stream",
     "text": [
      "Entrenamiento realizado con 50000 epocas y error mínimo alcanzado: 0.0025274628869358232\n"
     ]
    },
    {
     "data": {
      "image/png": "[encoded data removed]",
      "text/plain": [
       "<Figure size 640x480 with 1 Axes>"
      ]
     },
     "metadata": {},
     "output_type": "display_data"
    }
   ],
   "source": [
    "w1, w2, w3, w4, b1, b2, b3, b4 = autoencoder3(x, x, 0.001, 50000, 132) #94\n",
    "# Entrenamiento realizado con 30000 epocas, seed 132, ln=0.001 y error mínimo alcanzado: 0.0034814544044208147"
   ]
  },
  {
   "cell_type": "markdown",
   "id": "74b977a4",
   "metadata": {},
   "source": [
    "# Guardar y cargar pesos"
   ]
  },
  {
   "cell_type": "markdown",
   "id": "06e2f3fd",
   "metadata": {},
   "source": [
    "Guardar pesos"
   ]
  },
  {
   "cell_type": "code",
   "execution_count": 47,
   "id": "a6ba62ad",
   "metadata": {},
   "outputs": [],
   "source": [
    "pesos_a_guardar = np.array([w1, w2, w3, w4, b1, b2, b3, b4], dtype=object)\n",
    "np.save(\"pesos_autoencoder.npy\", pesos_a_guardar, allow_pickle=True)"
   ]
  },
  {
   "cell_type": "markdown",
   "id": "e9df1116",
   "metadata": {},
   "source": [
    "JSON"
   ]
  },
  {
   "cell_type": "code",
   "execution_count": 48,
   "id": "f63ab0f4",
   "metadata": {},
   "outputs": [],
   "source": [
    "import json\n",
    "\n",
    "# Convertir a listas\n",
    "pesos_autoencoder = {\n",
    "    \"w1\": w1.tolist(), \"w2\": w2.tolist(), \"w3\": w3.tolist(), \"w4\": w4.tolist(),\n",
    "    \"b1\": b1.tolist(), \"b2\": b2.tolist(), \"b3\": b3.tolist(), \"b4\": b4.tolist()\n",
    "}\n",
    "\n",
    "# Guardar a archivos JSON\n",
    "with open(\"pesos_autoencoder.json\", \"w\") as f:\n",
    "    json.dump(pesos_autoencoder, f)"
   ]
  },
  {
   "cell_type": "markdown",
   "id": "5e88103f",
   "metadata": {},
   "source": [
    "Cargar pesos"
   ]
  },
  {
   "cell_type": "code",
   "execution_count": 117,
   "id": "19bd3474",
   "metadata": {},
   "outputs": [],
   "source": [
    "pesos = np.load(\"pesos_autoencoder.npy\", allow_pickle=True)\n",
    "w1, w2, w3, w4, b1, b2, b3, b4 = pesos"
   ]
  },
  {
   "cell_type": "markdown",
   "id": "25cd6417",
   "metadata": {},
   "source": [
    "# Predicciones"
   ]
  },
  {
   "cell_type": "code",
   "execution_count": 46,
   "id": "3902519b",
   "metadata": {},
   "outputs": [
    {
     "name": "stdout",
     "output_type": "stream",
     "text": [
      "[0 0 0 0 0 0 1 0 1 0 1 0 0 0 1 1 0 0 0 1 1 1 1 1 1 1 0 0 0 1 1 0 0 0 1]\n",
      "[0 0 1 0 0 0 1 0 1 0 1 0 0 0 1 1 0 0 0 1 1 1 1 1 1 1 0 0 0 1 1 0 0 0 1]\n"
     ]
    },
    {
     "data": {
      "image/png": "[encoded data removed]",
      "text/plain": [
       "<Figure size 6400x300 with 32 Axes>"
      ]
     },
     "metadata": {},
     "output_type": "display_data"
    },
    {
     "data": {
      "image/png": "[encoded data removed]",
      "text/plain": [
       "<Figure size 6400x300 with 32 Axes>"
      ]
     },
     "metadata": {},
     "output_type": "display_data"
    }
   ],
   "source": [
    "# Realizamos las predicciones y las redondeamos\n",
    "ypred = predecir_autoencoder3(x, w1, w2, w3, w4, b1, b2, b3, b4)\n",
    "#ypred = predecir_autoencoder2(x, w1, w2, w3, w4, w5, w6, b1, b2, b3, b4, b5, b6)\n",
    "reconstruccion = np.round(ypred).astype(int)\n",
    "\n",
    "# Comparamos alguna\n",
    "print(reconstruccion[1])\n",
    "print(x[1])\n",
    "\n",
    "# Las reconstruimos y graficamos el antes y después\n",
    "graficar_matrices(des_aplanar(x, 7, 5), \"Entrada\")\n",
    "matriz_nueva2 = des_aplanar(reconstruccion, 7, 5)\n",
    "graficar_matrices(matriz_nueva2, \"Reconstruccion\")"
   ]
  },
  {
   "cell_type": "markdown",
   "id": "053d68d9",
   "metadata": {},
   "source": [
    "# Pruebas Encoder"
   ]
  },
  {
   "cell_type": "markdown",
   "id": "e856c784",
   "metadata": {},
   "source": [
    "Función para graficar capa latente"
   ]
  },
  {
   "cell_type": "code",
   "execution_count": 51,
   "id": "6c5abe8a",
   "metadata": {},
   "outputs": [],
   "source": [
    "def graficar_capa_latente(codificados, etiquetas, fontsize=12, fcolor='black'):\n",
    "  plt.figure(figsize=(10,8))\n",
    "  plt.scatter(codificados[:,0], codificados[:,1], color='white')\n",
    "\n",
    "  for i, etiqueta in enumerate(etiquetas):\n",
    "      x1, y1 = codificados[i, 0], codificados[i, 1]\n",
    "      texto = plt.text(x1, y1, etiqueta, fontsize=fontsize, ha='center', va='center', color='white')\n",
    "      texto.set_path_effects([\n",
    "          path_effects.Stroke(linewidth=(int(fontsize/8)), foreground=fcolor),  # contorno negro\n",
    "          path_effects.Normal()  # texto original encima\n",
    "      ])\n",
    "\n",
    "  #plt.title('Representaciones latentes con contorno en las etiquetas')\n",
    "  # Si se usa referencia el gráfico no debe tener titulo\n",
    "  plt.grid(True)\n",
    "  #plt.xlim(-0.05, 1.05)\n",
    "  #plt.ylim(-0.05, 1.05)\n",
    "  plt.show()"
   ]
  },
  {
   "cell_type": "code",
   "execution_count": 52,
   "id": "7335af65",
   "metadata": {},
   "outputs": [
    {
     "data": {
      "image/png": "[encoded data removed]",
      "text/plain": [
       "<Figure size 1000x800 with 1 Axes>"
      ]
     },
     "metadata": {},
     "output_type": "display_data"
    }
   ],
   "source": [
    "codificados1 = encoder3(x, w1, w2, b1, b2)\n",
    "\n",
    "graficar_capa_latente(codificados1, etiquetas, 26)"
   ]
  },
  {
   "cell_type": "markdown",
   "id": "251f3ab5",
   "metadata": {},
   "source": [
    "[EXTRA] json"
   ]
  },
  {
   "cell_type": "code",
   "execution_count": 53,
   "id": "d0221dd0",
   "metadata": {},
   "outputs": [
    {
     "name": "stdout",
     "output_type": "stream",
     "text": [
      "['@', 'A', 'B', 'C', 'D', 'E', 'F', 'G', 'H', 'I', 'J', 'K', 'L', 'M', 'N', 'O', 'P', 'Q', 'R', 'S', 'T', 'U', 'V', 'W', 'X', 'Y', 'Z', '[', '\\\\', ']', '^', '_']\n",
      "[[16.18, 7.73], [0.22, 3.47], [4.56, 6.37], [5.43, 1.69], [4.71, 0.44], [1.26, 1.63], [2.4, 3.46], [6.55, 2.63], [5.61, 15.9], [7.6, -0.17], [0.66, 0.41], [0.84, 2.59], [0.82, 1.3], [0.61, 4.59], [-0.17, 7.15], [8.13, 3.04], [9.87, 10.26], [14.09, 7.8], [11.76, 11.6], [11.74, 3.21], [2.26, -0.17], [2.12, 6.48], [1.67, 10.79], [-0.1, 8.69], [-0.16, 5.62], [-0.06, 0.71], [1.65, 0.26], [5.48, 0.25], [-0.15, 0.37], [0.62, 0.27], [0.56, -0.15], [0.33, 0.06]]\n"
     ]
    }
   ],
   "source": [
    "import json\n",
    "\n",
    "codificados_puntos = np.round(codificados1, 2)\n",
    "\n",
    "codificados_redondeados = [[round(x, 2) for x in par] for par in codificados_puntos.tolist()]\n",
    "\n",
    "print(etiquetas)\n",
    "print(json.dumps(codificados_redondeados))"
   ]
  },
  {
   "cell_type": "markdown",
   "id": "44d54bed",
   "metadata": {},
   "source": [
    "# Pruebas Decoder"
   ]
  },
  {
   "cell_type": "markdown",
   "id": "f9286adb",
   "metadata": {},
   "source": [
    "Función para \"crear\" puntos entre letras"
   ]
  },
  {
   "cell_type": "code",
   "execution_count": 43,
   "id": "b6287215",
   "metadata": {},
   "outputs": [],
   "source": [
    "#etiquetas.index(\"T\")\n",
    "\n",
    "def representar_promedio_entre(codificados, etiquetas, punto1, punto2):\n",
    "  valor1 = codificados[etiquetas.index(punto1)]\n",
    "  valor2 = codificados[etiquetas.index(punto2)]\n",
    "  nuevo_valor = (valor1 + valor2) / 2\n",
    "\n",
    "  decodificado = decoder(nuevo_valor, w3, w4, b3, b4)\n",
    "  decodificado = np.round(decodificado).astype(int)\n",
    "\n",
    "  matriz_decodificado = des_aplanar(decodificado, 7, 5)\n",
    "  \n",
    "\n",
    "  graficar_matrices(matriz_decodificado, titulo=f\"{punto1} + {punto2}  →  punto medio\")"
   ]
  },
  {
   "cell_type": "code",
   "execution_count": 74,
   "id": "bcacd963",
   "metadata": {},
   "outputs": [
    {
     "data": {
      "image/png": "[encoded data removed]",
      "text/plain": [
       "<Figure size 200x300 with 1 Axes>"
      ]
     },
     "metadata": {},
     "output_type": "display_data"
    }
   ],
   "source": [
    "representar_promedio_entre(codificados1, etiquetas, \"B\", \"G\")"
   ]
  }
 ],
 "metadata": {
  "kernelspec": {
   "display_name": "tf-cpu-env",
   "language": "python",
   "name": "python3"
  },
  "language_info": {
   "codemirror_mode": {
    "name": "ipython",
    "version": 3
   },
   "file_extension": ".py",
   "mimetype": "text/x-python",
   "name": "python",
   "nbconvert_exporter": "python",
   "pygments_lexer": "ipython3",
   "version": "3.10.11"
  }
 },
 "nbformat": 4,
 "nbformat_minor": 5
}
